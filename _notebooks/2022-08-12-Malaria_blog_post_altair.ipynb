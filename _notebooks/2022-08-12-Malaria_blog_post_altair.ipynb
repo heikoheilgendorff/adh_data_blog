{
 "cells": [
  {
   "cell_type": "markdown",
   "id": "229612a6",
   "metadata": {},
   "source": [
    "# Exploring the WHO's Malaria data (complete)\n",
    "> A quick look at the WHO malaria database. \n",
    "\n",
    "- toc: false \n",
    "- badges: false\n",
    "- comments: false\n",
    "- categories: [jupyter, malaria, WHO, data, quicklook]\n",
    "- image: images/malaria.jpg"
   ]
  },
  {
   "cell_type": "markdown",
   "id": "2c35a485",
   "metadata": {},
   "source": [
    "The World Health Organization (WHO) has some interesting datasets on Malaria. We have linked [some of them](https://ckan.africadatahub.org/dataset/who-malaria) in the ADH [CKAN data repository](https://ckan.africadatahub.org/). In this blog post, we provide a quicklook tool to showcase the information available in this data. This post is coded in Jupyter Notebook and if you are interested, you can view the code by clicking `Show Code`."
   ]
  },
  {
   "cell_type": "code",
   "execution_count": null,
   "id": "07ad945b",
   "metadata": {},
   "outputs": [],
   "source": [
    "# Install a pip package in the current Jupyter kernel\n",
    "import sys\n",
    "!{sys.executable} -m pip install jupyter_contrib_nbextensions\n",
    "!{sys.executable} jupyter contrib nbextension install --user\n",
    "!{sys.executable} jupyter nbextension enable python-markdown/main"
   ]
  },
  {
   "cell_type": "code",
   "execution_count": null,
   "id": "5c128dcd",
   "metadata": {},
   "outputs": [],
   "source": [
    "#collapse\n",
    "import altair as alt\n",
    "import pandas as pd\n",
    "import requests     \n",
    "import json         \n",
    "import matplotlib.pyplot as plt\n",
    "import math"
   ]
  },
  {
   "cell_type": "code",
   "execution_count": null,
   "id": "77240a60",
   "metadata": {},
   "outputs": [],
   "source": [
    "#hide\n",
    "# Package list of ADH CKAN\n",
    "packages = 'https://ckan.africadatahub.org/api/3/action/package_list'\n",
    "\n",
    "# Make the HTTP request\n",
    "response = requests.get(packages)\n",
    "\n",
    "# Use the json module to load CKAN's response into a dictionary\n",
    "response_dict = json.loads(response.content)\n",
    "\n",
    "# Check the contents of the response\n",
    "assert response_dict['success'] is True  # make sure if response is OK\n",
    "\n",
    "datasets = response_dict['result']         # extract all the packages from the response\n",
    "#print(len(datasets))                       # print the total number of datasets\n",
    "\n",
    "#print(datasets)\n",
    "\n",
    "# Specify the package you are interested in:\n",
    "package = 'who-malaria'\n",
    "\n",
    "# Base url for package information. This is always the same.\n",
    "base_url = 'https://ckan.africadatahub.org/api/3/action/package_show?id='\n",
    "\n",
    "# Construct the url for the package of interest\n",
    "package_information_url = base_url + package\n",
    "\n",
    "# Make the HTTP request\n",
    "package_information = requests.get(package_information_url)\n",
    "\n",
    "# Use the json module to load CKAN's response into a dictionary\n",
    "package_dict = json.loads(package_information.content)\n",
    "\n",
    "# Check the contents of the response.\n",
    "assert package_dict['success'] is True  # again make sure if response is OK\n",
    "package_dict = package_dict['result']   # we only need the 'result' part from the dictionary\n",
    "data_id_deaths = package_dict['resources'][1]['id']\n",
    "data_id_cases = package_dict['resources'][-1]['id']"
   ]
  },
  {
   "cell_type": "markdown",
   "id": "7e91bc2a",
   "metadata": {},
   "source": [
    "### Get the data\n",
    "The following datasets have been used in this post:\n",
    "* [Estimated Malaria Deaths](https://ckan.africadatahub.org/dataset/who-malaria/resource/3fb5a88a-c48b-432d-a9b4-d76b26363705) \n",
    "* [Estimated Malaria Cases](https://ckan.africadatahub.org/dataset/a747f73e-6009-43f6-8b55-486409ca92e4/resource/c4bc5b8d-80f6-4b4e-a193-0e8c50bc4d51/download/data.csv) "
   ]
  },
  {
   "cell_type": "code",
   "execution_count": null,
   "id": "e2247938",
   "metadata": {},
   "outputs": [],
   "source": [
    "#collapse\n",
    "# get the data\n",
    "def get_data(data_id):\n",
    "    r = requests.request('GET', 'https://ckan.africadatahub.org/api/3/action/datastore_search?resource_id=%s&limit=5000'%(data_id))\n",
    "    c = json.loads(r.content)\n",
    "    df = pd.json_normalize(c['result']['records'])\n",
    "    #print(df.head(10))\n",
    "    #print(df.Indicator.drop_duplicates())\n",
    "    return df\n",
    "df_deaths = get_data(data_id_deaths)\n",
    "df_cases = get_data(data_id_cases)"
   ]
  },
  {
   "cell_type": "markdown",
   "id": "58d69088",
   "metadata": {},
   "source": [
    "These datasets have {{df_deaths.shape[0]}} rows with {{df_deaths.shape[1]}} columns. We're only interested in a few columns and we're also only interested in African countries, so we can select the countries and columns as follows."
   ]
  },
  {
   "cell_type": "code",
   "execution_count": null,
   "id": "03d500cf",
   "metadata": {},
   "outputs": [],
   "source": [
    "#collapse_show\n",
    "def cut_data(df):\n",
    "    df = df[df.ParentLocation=='Africa']\n",
    "    cols = ['SpatialDimValueCode', 'Location','Indicator','Period','FactValueNumeric','FactValueNumericLow','FactValueNumericHigh','DateModified']\n",
    "    df = df.loc[:,cols]\n",
    "    df = df.rename(columns={'FactValueNumeric':'value','FactValueNumericLow':'low_bound','FactValueNumericHigh':'up_bound'})\n",
    "    print(\"New shape: {}\".format(df.shape))\n",
    "    return df\n",
    "\n",
    "df_deaths = cut_data(df_deaths)\n",
    "df_cases = cut_data(df_cases)\n"
   ]
  },
  {
   "cell_type": "markdown",
   "id": "cc3bdb3d",
   "metadata": {},
   "source": [
    "Let's combine these datasets and explore the data"
   ]
  },
  {
   "cell_type": "code",
   "execution_count": null,
   "id": "9978ac77",
   "metadata": {},
   "outputs": [],
   "source": [
    "#collapse_show\n",
    "df = pd.merge(df_deaths,df_cases,on=['SpatialDimValueCode','Location','Period'],suffixes=(\"_deaths\",\"_cases\"))"
   ]
  },
  {
   "cell_type": "code",
   "execution_count": null,
   "id": "ec3fef45",
   "metadata": {},
   "outputs": [],
   "source": [
    "#collapse\n",
    "#%% create filters\n",
    "\n",
    "locations = df.Location.unique()\n",
    "locations = list(filter(lambda d: d is not None, locations)) # filter out None values\n",
    "locations.sort() # sort alphabetically\n",
    "demo_labels = locations.copy()\n",
    "\n",
    "input_dropdown = alt.binding_select(options=locations, name='Select country',labels=demo_labels)\n",
    "selection = alt.selection_single(fields=['Location'], bind=input_dropdown,init={'Location':'Kenya'})"
   ]
  },
  {
   "cell_type": "code",
   "execution_count": null,
   "id": "0f84a4ac",
   "metadata": {},
   "outputs": [],
   "source": [
    "#collapse\n",
    "# Deaths\n",
    "w = 350 # width\n",
    "h = 300 # height\n",
    "title = alt.TitleParams('Estimated number of deaths due to Malaria in Selected Country', anchor='middle')\n",
    "line = alt.Chart(df,title=title).mark_line().encode(\n",
    "alt.X('Period:O',title='Year'), # :O tells altair that the data is ordinal\n",
    "alt.Y('value_deaths',title='Number of Deaths')\n",
    ").properties(\n",
    "    width=w,\n",
    "    height=h  \n",
    ")  \n",
    "\n",
    "#line.show()\n",
    "\n",
    "point = alt.Chart(df).mark_area(opacity=0.3).encode(\n",
    "alt.X('Period:O'),\n",
    "alt.Y('low_bound_deaths'),\n",
    "alt.Y2('up_bound_deaths'),\n",
    "tooltip=['Period','low_bound_deaths','value_deaths','up_bound_deaths']\n",
    ").properties(\n",
    "    width=w,\n",
    "    height=h  \n",
    ").interactive()   \n",
    "\n",
    "# cases\n",
    "title = alt.TitleParams('Estimated number of cases of Malaria in Selected Country', anchor='middle')\n",
    "line2 = alt.Chart(df,title=title).mark_line().encode(\n",
    "alt.X('Period:O',title='Year'), # :O tells altair that the data is ordinal\n",
    "alt.Y('value_cases',title='Number of Cases')\n",
    ").properties(\n",
    "    width=w,\n",
    "    height=h  \n",
    ")  \n",
    "\n",
    "#line.show()\n",
    "\n",
    "point2 = alt.Chart(df).mark_area(opacity=0.3).encode(\n",
    "alt.X('Period:O'),\n",
    "alt.Y('low_bound_cases'),\n",
    "alt.Y2('up_bound_cases'),\n",
    "tooltip=['Period','low_bound_cases','value_cases','up_bound_cases']\n",
    ").properties(\n",
    "    width=w,\n",
    "    height=h  \n",
    ").interactive() \n",
    "\n",
    "# combine plots\n",
    "x = line + point | line2 + point2\n",
    "x = x.add_selection(\n",
    "    selection\n",
    ").transform_filter(\n",
    "    selection\n",
    ")\n",
    "x.save('chart.html')\n",
    "x"
   ]
  }
 ],
 "metadata": {
  "kernelspec": {
   "display_name": "py3",
   "language": "python",
   "name": "py3"
  },
  "language_info": {
   "codemirror_mode": {
    "name": "ipython",
    "version": 3
   },
   "file_extension": ".py",
   "mimetype": "text/x-python",
   "name": "python",
   "nbconvert_exporter": "python",
   "pygments_lexer": "ipython3",
   "version": "3.8.13"
  }
 },
 "nbformat": 4,
 "nbformat_minor": 5
}

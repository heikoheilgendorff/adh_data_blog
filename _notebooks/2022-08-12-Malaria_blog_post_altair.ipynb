{
 "cells": [
  {
   "cell_type": "markdown",
   "id": "229612a6",
   "metadata": {},
   "source": [
    "# Taking a look at some malaria data using Altair\n",
    "> Just testing\n",
    "\n",
    "- toc: true \n",
    "- badges: false\n",
    "- comments: true\n",
    "- categories: [jupyter, malaria]\n",
    "- image: images/chart-preview.png"
   ]
  },
  {
   "cell_type": "code",
   "execution_count": 1,
   "id": "5c128dcd",
   "metadata": {},
   "outputs": [],
   "source": [
    "import altair as alt\n",
    "import pandas as pd\n",
    "import requests     \n",
    "import json         \n",
    "import matplotlib.pyplot as plt\n",
    "import math"
   ]
  },
  {
   "cell_type": "code",
   "execution_count": 2,
   "id": "77240a60",
   "metadata": {},
   "outputs": [],
   "source": [
    "#hide\n",
    "# Package list of ADH CKAN\n",
    "packages = 'https://ckan.africadatahub.org/api/3/action/package_list'\n",
    "\n",
    "# Make the HTTP request\n",
    "response = requests.get(packages)\n",
    "\n",
    "# Use the json module to load CKAN's response into a dictionary\n",
    "response_dict = json.loads(response.content)\n",
    "\n",
    "# Check the contents of the response\n",
    "assert response_dict['success'] is True  # make sure if response is OK\n",
    "\n",
    "datasets = response_dict['result']         # extract all the packages from the response\n",
    "#print(len(datasets))                       # print the total number of datasets\n",
    "\n",
    "#print(datasets)\n",
    "\n",
    "# Specify the package you are interested in:\n",
    "package = 'who-malaria'\n",
    "\n",
    "# Base url for package information. This is always the same.\n",
    "base_url = 'https://ckan.africadatahub.org/api/3/action/package_show?id='\n",
    "\n",
    "# Construct the url for the package of interest\n",
    "package_information_url = base_url + package\n",
    "\n",
    "# Make the HTTP request\n",
    "package_information = requests.get(package_information_url)\n",
    "\n",
    "# Use the json module to load CKAN's response into a dictionary\n",
    "package_dict = json.loads(package_information.content)\n",
    "\n",
    "# Check the contents of the response.\n",
    "assert package_dict['success'] is True  # again make sure if response is OK\n",
    "package_dict = package_dict['result']   # we only need the 'result' part from the dictionary\n",
    "data_id = package_dict['resources'][1]['id']"
   ]
  },
  {
   "cell_type": "markdown",
   "id": "7e91bc2a",
   "metadata": {},
   "source": [
    "## Get the data\n",
    "The data can be found on ckan [here](https://ckan.africadatahub.org/dataset/who-malaria/resource/3fb5a88a-c48b-432d-a9b4-d76b26363705)."
   ]
  },
  {
   "cell_type": "code",
   "execution_count": 3,
   "id": "e2247938",
   "metadata": {},
   "outputs": [
    {
     "name": "stdout",
     "output_type": "stream",
     "text": [
      "   _id       IndicatorCode                           Indicator ValueType  \\\n",
      "0    1  MALARIA_EST_DEATHS  Estimated number of malaria deaths      text   \n",
      "1    2  MALARIA_EST_DEATHS  Estimated number of malaria deaths      text   \n",
      "2    3  MALARIA_EST_DEATHS  Estimated number of malaria deaths      text   \n",
      "3    4  MALARIA_EST_DEATHS  Estimated number of malaria deaths      text   \n",
      "4    5  MALARIA_EST_DEATHS  Estimated number of malaria deaths      text   \n",
      "5    6  MALARIA_EST_DEATHS  Estimated number of malaria deaths      text   \n",
      "6    7  MALARIA_EST_DEATHS  Estimated number of malaria deaths      text   \n",
      "7    8  MALARIA_EST_DEATHS  Estimated number of malaria deaths      text   \n",
      "8    9  MALARIA_EST_DEATHS  Estimated number of malaria deaths      text   \n",
      "9   10  MALARIA_EST_DEATHS  Estimated number of malaria deaths      text   \n",
      "\n",
      "  ParentLocationCode   ParentLocation Location type SpatialDimValueCode  \\\n",
      "0                AMR         Americas       Country                 BLZ   \n",
      "1               SEAR  South-East Asia       Country                 BTN   \n",
      "2                AFR           Africa       Country                 CPV   \n",
      "3                AMR         Americas       Country                 CRI   \n",
      "4               SEAR  South-East Asia       Country                 PRK   \n",
      "5                AFR           Africa       Country                 SWZ   \n",
      "6                AMR         Americas       Country                 GTM   \n",
      "7                AMR         Americas       Country                 MEX   \n",
      "8               SEAR  South-East Asia       Country                 NPL   \n",
      "9                AMR         Americas       Country                 NIC   \n",
      "\n",
      "                                Location Period type  ...  FactValueUoM  \\\n",
      "0                                 Belize        Year  ...                 \n",
      "1                                 Bhutan        Year  ...                 \n",
      "2                             Cabo Verde        Year  ...                 \n",
      "3                             Costa Rica        Year  ...                 \n",
      "4  Democratic People's Republic of Korea        Year  ...                 \n",
      "5                               Eswatini        Year  ...                 \n",
      "6                              Guatemala        Year  ...                 \n",
      "7                                 Mexico        Year  ...                 \n",
      "8                                  Nepal        Year  ...                 \n",
      "9                              Nicaragua        Year  ...                 \n",
      "\n",
      "  FactValueNumericLowPrefix FactValueNumericLow FactValueNumericHighPrefix  \\\n",
      "0                                           NaN                              \n",
      "1                                           NaN                              \n",
      "2                                           NaN                              \n",
      "3                                           NaN                              \n",
      "4                                           NaN                              \n",
      "5                                           NaN                              \n",
      "6                                           NaN                              \n",
      "7                                           NaN                              \n",
      "8                                           NaN                              \n",
      "9                                           NaN                              \n",
      "\n",
      "  FactValueNumericHigh Value FactValueTranslationID FactComments Language  \\\n",
      "0                  NaN     0                                           EN   \n",
      "1                  NaN     0                                           EN   \n",
      "2                  NaN     0                                           EN   \n",
      "3                  NaN     0                                           EN   \n",
      "4                  NaN     0                                           EN   \n",
      "5                  NaN     0                                           EN   \n",
      "6                  NaN     0                                           EN   \n",
      "7                  NaN     0                                           EN   \n",
      "8                  NaN     0                                           EN   \n",
      "9                  NaN     0                                           EN   \n",
      "\n",
      "          DateModified  \n",
      "0  2022-02-02T22:00:00  \n",
      "1  2022-02-02T22:00:00  \n",
      "2  2022-02-02T22:00:00  \n",
      "3  2022-02-02T22:00:00  \n",
      "4  2022-02-02T22:00:00  \n",
      "5  2022-02-02T22:00:00  \n",
      "6  2022-02-02T22:00:00  \n",
      "7  2022-02-02T22:00:00  \n",
      "8  2022-02-02T22:00:00  \n",
      "9  2022-02-02T22:00:00  \n",
      "\n",
      "[10 rows x 35 columns]\n"
     ]
    }
   ],
   "source": [
    "#hide_input\n",
    "# get the data\n",
    "r = requests.request('GET', 'https://ckan.africadatahub.org/api/3/action/datastore_search?resource_id=%s&limit=5000'%(data_id))\n",
    "c = json.loads(r.content)\n",
    "df = pd.json_normalize(c['result']['records'])\n",
    "print(df.head(10))\n"
   ]
  },
  {
   "cell_type": "markdown",
   "id": "58d69088",
   "metadata": {},
   "source": [
    "As we can see, there are a lot of columns in this dataset. We are also only interested in African countries, so we can select the countries and columns as follows."
   ]
  },
  {
   "cell_type": "code",
   "execution_count": 4,
   "id": "03d500cf",
   "metadata": {},
   "outputs": [
    {
     "name": "stdout",
     "output_type": "stream",
     "text": [
      "   SpatialDimValueCode               Location  \\\n",
      "2                  CPV             Cabo Verde   \n",
      "5                  SWZ               Eswatini   \n",
      "12                 STP  Sao Tome and Principe   \n",
      "18                 BEN                  Benin   \n",
      "19                 GIN                 Guinea   \n",
      "20                 COM                Comoros   \n",
      "22                 GHA                  Ghana   \n",
      "23                 TCD                   Chad   \n",
      "24                 KEN                  Kenya   \n",
      "27                 CMR               Cameroon   \n",
      "\n",
      "                             Indicator  Period  FactValueNumeric  \\\n",
      "2   Estimated number of malaria deaths    2020               0.0   \n",
      "5   Estimated number of malaria deaths    2020               0.0   \n",
      "12  Estimated number of malaria deaths    2020               0.0   \n",
      "18  Estimated number of malaria deaths    2020           10123.0   \n",
      "19  Estimated number of malaria deaths    2020           10215.0   \n",
      "20  Estimated number of malaria deaths    2020              11.0   \n",
      "22  Estimated number of malaria deaths    2020           12084.0   \n",
      "23  Estimated number of malaria deaths    2020           12415.0   \n",
      "24  Estimated number of malaria deaths    2020           12646.0   \n",
      "27  Estimated number of malaria deaths    2020           14841.0   \n",
      "\n",
      "    FactValueNumericLow  FactValueNumericHigh         DateModified  \n",
      "2                   NaN                   NaN  2022-02-02T22:00:00  \n",
      "5                   NaN                   NaN  2022-02-02T22:00:00  \n",
      "12                  NaN                   NaN  2022-02-02T22:00:00  \n",
      "18               8420.0               12600.0  2022-02-02T22:00:00  \n",
      "19               7760.0               12700.0  2022-02-02T22:00:00  \n",
      "20                  0.0                  18.0  2022-02-02T22:00:00  \n",
      "22              11200.0               13300.0  2022-02-02T22:00:00  \n",
      "23               9340.0               16600.0  2022-02-02T22:00:00  \n",
      "24              11400.0               14800.0  2022-02-02T22:00:00  \n",
      "27              12300.0               18200.0  2022-02-02T22:00:00  \n"
     ]
    }
   ],
   "source": [
    "df = df[df.ParentLocation=='Africa']\n",
    "cols = ['SpatialDimValueCode', 'Location','Indicator','Period','FactValueNumeric','FactValueNumericLow','FactValueNumericHigh','DateModified']\n",
    "df = df.loc[:,cols]\n",
    "print(df.head(10))\n"
   ]
  },
  {
   "cell_type": "code",
   "execution_count": 5,
   "id": "9978ac77",
   "metadata": {},
   "outputs": [],
   "source": [
    "df_kenya = df[df.Location=='Kenya']"
   ]
  },
  {
   "cell_type": "code",
   "execution_count": 6,
   "id": "6fc77ea0",
   "metadata": {},
   "outputs": [],
   "source": [
    "# Create a centered title\n",
    "title = alt.TitleParams('Estimated number of deaths due to Malaria in Kenya', anchor='middle')\n",
    "line = alt.Chart(df_kenya,title=title).mark_line().encode(\n",
    "alt.X('Period:O',title='Year'), # :O tells altair that the data is ordinal\n",
    "alt.Y('FactValueNumeric',title='Number of Deaths'))\n",
    "\n",
    "point = alt.Chart(df_kenya).mark_area(opacity=0.3).encode(\n",
    "alt.X('Period:O'),\n",
    "alt.Y('FactValueNumericLow'),\n",
    "alt.Y2('FactValueNumericHigh'),\n",
    "tooltip=['Period','FactValueNumericLow','FactValueNumeric','FactValueNumericHigh'])"
   ]
  },
  {
   "cell_type": "code",
   "execution_count": 13,
   "id": "faa4e598",
   "metadata": {},
   "outputs": [],
   "source": [
    "#hide\n",
    "x = line+point\n",
    "x.save('chart.html')\n",
    "df_kenya.to_html('kenya.html')\n",
    "df_kenya.to_csv('kenya.csv',index=False)"
   ]
  },
  {
   "cell_type": "code",
   "execution_count": 15,
   "id": "83d842be",
   "metadata": {},
   "outputs": [
    {
     "data": {
      "text/html": [
       "\n",
       "<div id=\"altair-viz-a5b484e390b643d1a91f9f0d5b693d3a\"></div>\n",
       "<script type=\"text/javascript\">\n",
       "  (function(spec, embedOpt){\n",
       "    let outputDiv = document.currentScript.previousElementSibling;\n",
       "    if (outputDiv.id !== \"altair-viz-a5b484e390b643d1a91f9f0d5b693d3a\") {\n",
       "      outputDiv = document.getElementById(\"altair-viz-a5b484e390b643d1a91f9f0d5b693d3a\");\n",
       "    }\n",
       "    const paths = {\n",
       "      \"vega\": \"https://cdn.jsdelivr.net/npm//vega@5?noext\",\n",
       "      \"vega-lib\": \"https://cdn.jsdelivr.net/npm//vega-lib?noext\",\n",
       "      \"vega-lite\": \"https://cdn.jsdelivr.net/npm//vega-lite@4.8.1?noext\",\n",
       "      \"vega-embed\": \"https://cdn.jsdelivr.net/npm//vega-embed@6?noext\",\n",
       "    };\n",
       "\n",
       "    function loadScript(lib) {\n",
       "      return new Promise(function(resolve, reject) {\n",
       "        var s = document.createElement('script');\n",
       "        s.src = paths[lib];\n",
       "        s.async = true;\n",
       "        s.onload = () => resolve(paths[lib]);\n",
       "        s.onerror = () => reject(`Error loading script: ${paths[lib]}`);\n",
       "        document.getElementsByTagName(\"head\")[0].appendChild(s);\n",
       "      });\n",
       "    }\n",
       "\n",
       "    function showError(err) {\n",
       "      outputDiv.innerHTML = `<div class=\"error\" style=\"color:red;\">${err}</div>`;\n",
       "      throw err;\n",
       "    }\n",
       "\n",
       "    function displayChart(vegaEmbed) {\n",
       "      vegaEmbed(outputDiv, spec, embedOpt)\n",
       "        .catch(err => showError(`Javascript Error: ${err.message}<br>This usually means there's a typo in your chart specification. See the javascript console for the full traceback.`));\n",
       "    }\n",
       "\n",
       "    if(typeof define === \"function\" && define.amd) {\n",
       "      requirejs.config({paths});\n",
       "      require([\"vega-embed\"], displayChart, err => showError(`Error loading script: ${err.message}`));\n",
       "    } else if (typeof vegaEmbed === \"function\") {\n",
       "      displayChart(vegaEmbed);\n",
       "    } else {\n",
       "      loadScript(\"vega\")\n",
       "        .then(() => loadScript(\"vega-lite\"))\n",
       "        .then(() => loadScript(\"vega-embed\"))\n",
       "        .catch(showError)\n",
       "        .then(() => displayChart(vegaEmbed));\n",
       "    }\n",
       "  })({\"config\": {\"view\": {\"continuousWidth\": 400, \"continuousHeight\": 300}}, \"layer\": [{\"mark\": \"line\", \"encoding\": {\"x\": {\"type\": \"ordinal\", \"field\": \"Period\", \"title\": \"Year\"}, \"y\": {\"type\": \"quantitative\", \"field\": \"FactValueNumeric\", \"title\": \"Number of Deaths\"}}, \"title\": {\"text\": \"Estimated number of deaths due to Malaria in Kenya\", \"anchor\": \"middle\"}}, {\"mark\": {\"type\": \"area\", \"opacity\": 0.3}, \"encoding\": {\"tooltip\": [{\"type\": \"quantitative\", \"field\": \"Period\"}, {\"type\": \"quantitative\", \"field\": \"FactValueNumericLow\"}, {\"type\": \"quantitative\", \"field\": \"FactValueNumeric\"}, {\"type\": \"quantitative\", \"field\": \"FactValueNumericHigh\"}], \"x\": {\"type\": \"ordinal\", \"field\": \"Period\"}, \"y\": {\"type\": \"quantitative\", \"field\": \"FactValueNumericLow\"}, \"y2\": {\"field\": \"FactValueNumericHigh\"}}}], \"data\": {\"name\": \"data-f6e8ac133be1ee5f394216b31811c4ee\"}, \"$schema\": \"https://vega.github.io/schema/vega-lite/v4.8.1.json\", \"datasets\": {\"data-f6e8ac133be1ee5f394216b31811c4ee\": [{\"SpatialDimValueCode\": \"KEN\", \"Location\": \"Kenya\", \"Indicator\": \"Estimated number of malaria deaths\", \"Period\": 2020, \"FactValueNumeric\": 12646.0, \"FactValueNumericLow\": 11400.0, \"FactValueNumericHigh\": 14800.0, \"DateModified\": \"2022-02-02T22:00:00\"}, {\"SpatialDimValueCode\": \"KEN\", \"Location\": \"Kenya\", \"Indicator\": \"Estimated number of malaria deaths\", \"Period\": 2019, \"FactValueNumeric\": 11979.0, \"FactValueNumericLow\": 11200.0, \"FactValueNumericHigh\": 13200.0, \"DateModified\": \"2022-02-02T22:00:00\"}, {\"SpatialDimValueCode\": \"KEN\", \"Location\": \"Kenya\", \"Indicator\": \"Estimated number of malaria deaths\", \"Period\": 2018, \"FactValueNumeric\": 11850.0, \"FactValueNumericLow\": 11100.0, \"FactValueNumericHigh\": 12900.0, \"DateModified\": \"2022-02-02T22:00:00\"}, {\"SpatialDimValueCode\": \"KEN\", \"Location\": \"Kenya\", \"Indicator\": \"Estimated number of malaria deaths\", \"Period\": 2017, \"FactValueNumeric\": 11845.0, \"FactValueNumericLow\": 11100.0, \"FactValueNumericHigh\": 12800.0, \"DateModified\": \"2022-02-02T22:00:00\"}, {\"SpatialDimValueCode\": \"KEN\", \"Location\": \"Kenya\", \"Indicator\": \"Estimated number of malaria deaths\", \"Period\": 2016, \"FactValueNumeric\": 11298.0, \"FactValueNumericLow\": 10700.0, \"FactValueNumericHigh\": 12100.0, \"DateModified\": \"2022-02-02T22:00:00\"}, {\"SpatialDimValueCode\": \"KEN\", \"Location\": \"Kenya\", \"Indicator\": \"Estimated number of malaria deaths\", \"Period\": 2015, \"FactValueNumeric\": 10862.0, \"FactValueNumericLow\": 10400.0, \"FactValueNumericHigh\": 11500.0, \"DateModified\": \"2022-02-02T22:00:00\"}, {\"SpatialDimValueCode\": \"KEN\", \"Location\": \"Kenya\", \"Indicator\": \"Estimated number of malaria deaths\", \"Period\": 2014, \"FactValueNumeric\": 10634.0, \"FactValueNumericLow\": 10200.0, \"FactValueNumericHigh\": 11100.0, \"DateModified\": \"2022-02-02T22:00:00\"}, {\"SpatialDimValueCode\": \"KEN\", \"Location\": \"Kenya\", \"Indicator\": \"Estimated number of malaria deaths\", \"Period\": 2013, \"FactValueNumeric\": 10439.0, \"FactValueNumericLow\": 10100.0, \"FactValueNumericHigh\": 10900.0, \"DateModified\": \"2022-02-02T22:00:00\"}, {\"SpatialDimValueCode\": \"KEN\", \"Location\": \"Kenya\", \"Indicator\": \"Estimated number of malaria deaths\", \"Period\": 2012, \"FactValueNumeric\": 10372.0, \"FactValueNumericLow\": 10000.0, \"FactValueNumericHigh\": 10800.0, \"DateModified\": \"2022-02-02T22:00:00\"}, {\"SpatialDimValueCode\": \"KEN\", \"Location\": \"Kenya\", \"Indicator\": \"Estimated number of malaria deaths\", \"Period\": 2011, \"FactValueNumeric\": 10371.0, \"FactValueNumericLow\": 10000.0, \"FactValueNumericHigh\": 10700.0, \"DateModified\": \"2022-02-02T22:00:00\"}, {\"SpatialDimValueCode\": \"KEN\", \"Location\": \"Kenya\", \"Indicator\": \"Estimated number of malaria deaths\", \"Period\": 2010, \"FactValueNumeric\": 10033.0, \"FactValueNumericLow\": 9740.0, \"FactValueNumericHigh\": 10400.0, \"DateModified\": \"2022-02-02T22:00:00\"}, {\"SpatialDimValueCode\": \"KEN\", \"Location\": \"Kenya\", \"Indicator\": \"Estimated number of malaria deaths\", \"Period\": 2009, \"FactValueNumeric\": 9855.0, \"FactValueNumericLow\": 9570.0, \"FactValueNumericHigh\": 10200.0, \"DateModified\": \"2022-02-02T22:00:00\"}, {\"SpatialDimValueCode\": \"KEN\", \"Location\": \"Kenya\", \"Indicator\": \"Estimated number of malaria deaths\", \"Period\": 2008, \"FactValueNumeric\": 9714.0, \"FactValueNumericLow\": 9430.0, \"FactValueNumericHigh\": 10000.0, \"DateModified\": \"2022-02-02T22:00:00\"}, {\"SpatialDimValueCode\": \"KEN\", \"Location\": \"Kenya\", \"Indicator\": \"Estimated number of malaria deaths\", \"Period\": 2007, \"FactValueNumeric\": 9792.0, \"FactValueNumericLow\": 9490.0, \"FactValueNumericHigh\": 10100.0, \"DateModified\": \"2022-02-02T22:00:00\"}, {\"SpatialDimValueCode\": \"KEN\", \"Location\": \"Kenya\", \"Indicator\": \"Estimated number of malaria deaths\", \"Period\": 2006, \"FactValueNumeric\": 9848.0, \"FactValueNumericLow\": 9540.0, \"FactValueNumericHigh\": 10200.0, \"DateModified\": \"2022-02-02T22:00:00\"}, {\"SpatialDimValueCode\": \"KEN\", \"Location\": \"Kenya\", \"Indicator\": \"Estimated number of malaria deaths\", \"Period\": 2005, \"FactValueNumeric\": 10427.0, \"FactValueNumericLow\": 10100.0, \"FactValueNumericHigh\": 10800.0, \"DateModified\": \"2022-02-02T22:00:00\"}, {\"SpatialDimValueCode\": \"KEN\", \"Location\": \"Kenya\", \"Indicator\": \"Estimated number of malaria deaths\", \"Period\": 2004, \"FactValueNumeric\": 11667.0, \"FactValueNumericLow\": 11200.0, \"FactValueNumericHigh\": 12100.0, \"DateModified\": \"2022-02-02T22:00:00\"}, {\"SpatialDimValueCode\": \"KEN\", \"Location\": \"Kenya\", \"Indicator\": \"Estimated number of malaria deaths\", \"Period\": 2003, \"FactValueNumeric\": 13021.0, \"FactValueNumericLow\": 12500.0, \"FactValueNumericHigh\": 13600.0, \"DateModified\": \"2022-02-02T22:00:00\"}, {\"SpatialDimValueCode\": \"KEN\", \"Location\": \"Kenya\", \"Indicator\": \"Estimated number of malaria deaths\", \"Period\": 2002, \"FactValueNumeric\": 13472.0, \"FactValueNumericLow\": 12900.0, \"FactValueNumericHigh\": 14100.0, \"DateModified\": \"2022-02-02T22:00:00\"}, {\"SpatialDimValueCode\": \"KEN\", \"Location\": \"Kenya\", \"Indicator\": \"Estimated number of malaria deaths\", \"Period\": 2001, \"FactValueNumeric\": 13668.0, \"FactValueNumericLow\": 13100.0, \"FactValueNumericHigh\": 14300.0, \"DateModified\": \"2022-02-02T22:00:00\"}, {\"SpatialDimValueCode\": \"KEN\", \"Location\": \"Kenya\", \"Indicator\": \"Estimated number of malaria deaths\", \"Period\": 2000, \"FactValueNumeric\": 11901.0, \"FactValueNumericLow\": 11500.0, \"FactValueNumericHigh\": 12400.0, \"DateModified\": \"2022-02-02T22:00:00\"}]}}, {\"mode\": \"vega-lite\"});\n",
       "</script>"
      ],
      "text/plain": [
       "alt.LayerChart(...)"
      ]
     },
     "execution_count": 15,
     "metadata": {},
     "output_type": "execute_result"
    }
   ],
   "source": [
    "#hide_input\n",
    "x"
   ]
  },
  {
   "cell_type": "code",
   "execution_count": null,
   "id": "ec3fef45",
   "metadata": {},
   "outputs": [],
   "source": []
  }
 ],
 "metadata": {
  "kernelspec": {
   "display_name": "py3",
   "language": "python",
   "name": "py3"
  },
  "language_info": {
   "codemirror_mode": {
    "name": "ipython",
    "version": 3
   },
   "file_extension": ".py",
   "mimetype": "text/x-python",
   "name": "python",
   "nbconvert_exporter": "python",
   "pygments_lexer": "ipython3",
   "version": "3.8.13"
  }
 },
 "nbformat": 4,
 "nbformat_minor": 5
}

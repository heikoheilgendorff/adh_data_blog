{
 "cells": [
  {
   "cell_type": "markdown",
   "id": "18c725a9",
   "metadata": {},
   "source": [
    "# Introducing the African Data Hub CKAN Repository\n",
    "> An overview of the ADH data repository - what it is, how to use it, and how the African Data Hub engages with it.  \n",
    "\n",
    "- toc: true \n",
    "- badges: false\n",
    "- comments: false\n",
    "- categories: [ADH, CKAN, Data, Overview]\n",
    "- image: images/chart-preview.png"
   ]
  },
  {
   "cell_type": "markdown",
   "id": "534afb88",
   "metadata": {},
   "source": []
  },
  {
   "cell_type": "markdown",
   "id": "7b0a8dc3",
   "metadata": {},
   "source": [
    "### Dataset vs Resource\n",
    "When using CKAN, it is important to understand the difference between the system's definition of a `dataset` vs a `resource`. A dataset is a collection of related data resources, while a resource is a single file. It may be useful to think of a dataset as a folder on your computer and a resource as a file in that folder. When posting data on CKAN, you first need to create a dataset and fill in the required `metadata`. Then you can add resources either by uploading files, or linking them via URL. "
   ]
  },
  {
   "cell_type": "markdown",
   "id": "123a5706",
   "metadata": {},
   "source": [
    "### What is Metadata"
   ]
  },
  {
   "cell_type": "code",
   "execution_count": null,
   "id": "cb83ec65",
   "metadata": {},
   "outputs": [],
   "source": [
    "#hide\n",
    "a lot of useful info here: https://data.humdata.org/faq"
   ]
  },
  {
   "cell_type": "code",
   "execution_count": null,
   "id": "51874fdd",
   "metadata": {},
   "outputs": [],
   "source": []
  }
 ],
 "metadata": {
  "kernelspec": {
   "display_name": "py3",
   "language": "python",
   "name": "py3"
  },
  "language_info": {
   "codemirror_mode": {
    "name": "ipython",
    "version": 3
   },
   "file_extension": ".py",
   "mimetype": "text/x-python",
   "name": "python",
   "nbconvert_exporter": "python",
   "pygments_lexer": "ipython3",
   "version": "3.8.13"
  }
 },
 "nbformat": 4,
 "nbformat_minor": 5
}

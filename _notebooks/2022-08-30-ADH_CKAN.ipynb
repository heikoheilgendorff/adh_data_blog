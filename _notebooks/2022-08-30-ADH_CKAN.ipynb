{
 "cells": [
  {
   "cell_type": "markdown",
   "id": "ce3a6293",
   "metadata": {},
   "source": [
    "# Introducing the African Data Hub CKAN Repository\n",
    "> An overview of the ADH data repository: what it is, how to use it, and how the African Data Hub engages with it.  \n",
    "\n",
    "- toc: true \n",
    "- badges: false\n",
    "- comments: false\n",
    "- categories: [ADH,CKAN, Data, Overview ]\n",
    "- image: images/chart-preview.png"
   ]
  },
  {
   "cell_type": "markdown",
   "id": "327fded9",
   "metadata": {},
   "source": []
  },
  {
   "cell_type": "markdown",
   "id": "64c417e7",
   "metadata": {},
   "source": []
  },
  {
   "cell_type": "code",
   "execution_count": null,
   "id": "3516d8bb",
   "metadata": {},
   "outputs": [],
   "source": []
  }
 ],
 "metadata": {
  "kernelspec": {
   "display_name": "py3",
   "language": "python",
   "name": "py3"
  },
  "language_info": {
   "codemirror_mode": {
    "name": "ipython",
    "version": 3
   },
   "file_extension": ".py",
   "mimetype": "text/x-python",
   "name": "python",
   "nbconvert_exporter": "python",
   "pygments_lexer": "ipython3",
   "version": "3.8.13"
  }
 },
 "nbformat": 4,
 "nbformat_minor": 5
}

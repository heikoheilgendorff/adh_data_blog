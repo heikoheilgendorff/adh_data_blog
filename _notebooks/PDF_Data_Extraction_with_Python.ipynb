{
 "cells": [
  {
   "cell_type": "markdown",
   "id": "3eea56dd",
   "metadata": {},
   "source": [
    "# PDF Data Extraction with Python (almost complete)\n",
    "> How to extract data from a PDF using python\n",
    "\n",
    "- toc: true\n",
    "- badges: false\n",
    "- comments: false\n",
    "- categories: [Python, Tutorial, Data]\n",
    "- image: images/chart-preview.png"
   ]
  },
  {
   "cell_type": "code",
   "execution_count": null,
   "id": "775ceecb",
   "metadata": {},
   "outputs": [],
   "source": []
  }
 ],
 "metadata": {
  "kernelspec": {
   "display_name": "py3",
   "language": "python",
   "name": "py3"
  },
  "language_info": {
   "codemirror_mode": {
    "name": "ipython",
    "version": 3
   },
   "file_extension": ".py",
   "mimetype": "text/x-python",
   "name": "python",
   "nbconvert_exporter": "python",
   "pygments_lexer": "ipython3",
   "version": "3.8.13"
  }
 },
 "nbformat": 4,
 "nbformat_minor": 5
}

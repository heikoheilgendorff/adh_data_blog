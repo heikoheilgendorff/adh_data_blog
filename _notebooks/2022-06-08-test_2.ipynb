{
  "nbformat": 4,
  "nbformat_minor": 0,
  "metadata": {
    "colab": {
      "name": "_notebooks/2022-06-08-test_2.ipynb",
      "provenance": [],
      "authorship_tag": "ABX9TyPj8dCVLrK/XNuCXdW9+Jvd",
      "include_colab_link": true
    },
    "kernelspec": {
      "name": "python3",
      "display_name": "Python 3"
    },
    "language_info": {
      "name": "python"
    }
  },
  "cells": [
    {
      "cell_type": "markdown",
      "metadata": {
        "id": "view-in-github",
        "colab_type": "text"
      },
      "source": [
        "<a href=\"https://colab.research.google.com/github/heikoheilgendorff/adh_data_blog/blob/master/_notebooks/2022-06-08-test_2.ipynb\" target=\"_parent\"><img src=\"https://colab.research.google.com/assets/colab-badge.svg\" alt=\"Open In Colab\"/></a>"
      ]
    },
    {
      "cell_type": "markdown",
      "source": [
        "# Plotting data from github repo\n",
        "> My first attempt at a blog post.\n",
        "\n",
        "- toc: true \n",
        "- badges: true\n",
        "- comments: true\n",
        "- categories: [jupyter]\n",
        "- image: images/chart-preview.png"
      ],
      "metadata": {
        "id": "VeqoxxT6tp9O"
      }
    },
    {
      "cell_type": "markdown",
      "source": [
        "# First attempt at reading some data "
      ],
      "metadata": {
        "id": "3DKgz70AkvCj"
      }
    },
    {
      "cell_type": "code",
      "source": [
        "#hide\n",
        "import pandas as pd\n",
        "import altair as alt\n",
        "\n",
        "df = pd.read_csv('https://github.com/heikoheilgendorff/adh_data_blog/blob/master/_notebooks/data/owid_sample.csv')\n",
        "#df = pd.read_csv('https://raw.githubusercontent.com/heikoheilgendorff/adh_data_blog/master/_notebooks/data/owid_sample.csv')"
      ],
      "metadata": {
        "id": "p4iZdftitYTi"
      },
      "execution_count": 1,
      "outputs": []
    },
    {
      "cell_type": "markdown",
      "source": [
        "Let's take a look at some sample data from *Our World in Data*."
      ],
      "metadata": {
        "id": "q0ahnpK8zGUT"
      }
    },
    {
      "cell_type": "code",
      "source": [
        "df.head()"
      ],
      "metadata": {
        "id": "Y8snux7nvjkj"
      },
      "execution_count": null,
      "outputs": []
    },
    {
      "cell_type": "markdown",
      "source": [
        "End"
      ],
      "metadata": {
        "id": "7dm8wvaI6zfW"
      }
    }
  ]
}
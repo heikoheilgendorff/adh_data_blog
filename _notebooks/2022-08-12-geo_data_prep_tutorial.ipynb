{
 "cells": [
  {
   "cell_type": "markdown",
   "id": "e5bd92ff",
   "metadata": {},
   "source": [
    "# How to Use Geo Data Part Preparing Data\n",
    "> Insert blurb about where the data is from and \n",
    "\n",
    "- toc: true \n",
    "- badges: false\n",
    "- comments: true\n",
    "- categories: [jupyter, malaria]\n",
    "- image: images/chart-preview.png\n"
   ]
  },
  {
   "cell_type": "code",
   "execution_count": null,
   "id": "ee0c929e",
   "metadata": {},
   "outputs": [],
   "source": []
  }
 ],
 "metadata": {
  "kernelspec": {
   "display_name": "py3",
   "language": "python",
   "name": "py3"
  },
  "language_info": {
   "codemirror_mode": {
    "name": "ipython",
    "version": 3
   },
   "file_extension": ".py",
   "mimetype": "text/x-python",
   "name": "python",
   "nbconvert_exporter": "python",
   "pygments_lexer": "ipython3",
   "version": "3.8.13"
  }
 },
 "nbformat": 4,
 "nbformat_minor": 5
}

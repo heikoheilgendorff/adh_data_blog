{
 "cells": [
  {
   "cell_type": "markdown",
   "id": "32e4ae2f",
   "metadata": {},
   "source": [
    "# How We Created the ADH Inflation Database\n",
    "> An overview of the methodology used in creating the ADH Inflation Database\n",
    "\n",
    "- toc: true\n",
    "- badges: false\n",
    "- comments: false\n",
    "- categories: [CKAN, Data, Overview, Inflation]\n",
    "- image: images/chart-preview.png"
   ]
  },
  {
   "cell_type": "markdown",
   "id": "bf501bbc",
   "metadata": {},
   "source": [
    "### Introduction\n",
    "The International Monetary Fund (IMF) provide a great resource on inflation: the IMF [Consumer Price Index (CPI)](https://data.imf.org/?sk=4FFB52B2-3653-409A-B471-D47B46D904B5) database. This database receives inflation data from nations across the globe and combines it into a single unified table. This is naturally a massive undertaking, and as it requires the co-operation of every country that is represented in the database, it can sometimes take a little while for the latest data to be published. This delay leaves the database temporarily out of date, often by more than a month. As the African Data Hub, our mission is to provide data journalists, researchers, and the general data with up to date, accurate, African-based data. In service to this mission, we have undertaken to maintain an inflation database, specifically focused on African countries, using the IMF database as the key dataset, but updating it with data released by individual African nations, before this information makes its way to the IMF. Thus we are able to maintain one of the most up to date inflation datasets in the world based exclusively on African datasets. "
   ]
  },
  {
   "cell_type": "markdown",
   "id": "5702b8fb",
   "metadata": {},
   "source": [
    "### Data sources\n",
    "The data that we have used to create this database can be found [here](https://ckan.africadatahub.org/group/inflation-database) and the full list of data sources can be found [here](https://ckan.africadatahub.org/dataset/inflation-data-for-africa/resource/04415771-ba74-43d3-866c-b9dc9b8ea4d0). We gather the latest inflation data from different African countries by visiting the relevant websites (typically the country's national statistics bureau), searching for the latest inflation statistics, and then downloading the data. This data is often contained in official reports, published in PDF format. This can make extracting and using the data tables contained within the reports difficult and time-consuming. On rare occasions, the reports are accompanied by a separate data table release in CSV or XLSX format, which is much easier to use. The first step in combining the data from the IMF and the various countries is to extract the relevant data and convert it all to the same format. "
   ]
  },
  {
   "cell_type": "markdown",
   "id": "74920539",
   "metadata": {},
   "source": [
    "### Extracting data from PDFs and combining it into one dataset\n",
    "The one advantage about formal reports that have been published in PDF is that they are typically consistently structured, with only the content changing. Thus we were able to construct an automated process for extracting data from PDF tables that was unique to each country. The data was extracted using a python module (look out for a blog post on this process, coming soon!) called [tabula](https://pypi.org/project/tabula-py/), then cleaned and arranged in a manner that was consistent across all datasets, before being stored as a CSV. We then took our latest [ADH Inflation](https://ckan.africadatahub.org/dataset/inflation-data-for-africa/resource/15b5b9eb-e68e-461c-8f8e-7bd0c69dcd14) dataset, updated it with the latest IMF dataset, updated it further using"
   ]
  },
  {
   "cell_type": "markdown",
   "id": "d2a0ad46",
   "metadata": {},
   "source": [
    "### Posting data\n"
   ]
  },
  {
   "cell_type": "markdown",
   "id": "7a900f65",
   "metadata": {},
   "source": [
    "### Conclusion\n"
   ]
  },
  {
   "cell_type": "code",
   "execution_count": 5,
   "id": "87a4c714",
   "metadata": {},
   "outputs": [
    {
     "data": {
      "text/html": [
       "<iframe\n",
       "    src=\"https://metabase.africadatahub.org/public/dashboard/0e7e7c08-1a78-4303-85cb-90e549865917\"\n",
       "    frameborder=\"0\"\n",
       "    width=\"900\"\n",
       "    height=\"800\"\n",
       "    allowtransparency\n",
       "></iframe>\n"
      ],
      "text/plain": [
       "<IPython.core.display.HTML object>"
      ]
     },
     "metadata": {},
     "output_type": "display_data"
    }
   ],
   "source": []
  },
  {
   "cell_type": "code",
   "execution_count": null,
   "id": "589a0a87",
   "metadata": {},
   "outputs": [],
   "source": []
  }
 ],
 "metadata": {
  "kernelspec": {
   "display_name": "py3",
   "language": "python",
   "name": "py3"
  },
  "language_info": {
   "codemirror_mode": {
    "name": "ipython",
    "version": 3
   },
   "file_extension": ".py",
   "mimetype": "text/x-python",
   "name": "python",
   "nbconvert_exporter": "python",
   "pygments_lexer": "ipython3",
   "version": "3.8.13"
  }
 },
 "nbformat": 4,
 "nbformat_minor": 5
}

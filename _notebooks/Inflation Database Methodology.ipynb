{
 "cells": [
  {
   "cell_type": "markdown",
   "id": "fe13a5cc",
   "metadata": {},
   "source": [
    "# How We Created the ADH Inflation Database\n",
    "> An overview of the methodology used in creating the ADH Inflation Database\n",
    "\n",
    "- toc: true\n",
    "- badges: false\n",
    "- comments: false\n",
    "- categories: [CKAN, Data, Overview, Inflation]\n",
    "- image: images/chart-preview.png"
   ]
  },
  {
   "cell_type": "markdown",
   "id": "b4219417",
   "metadata": {},
   "source": [
    "### Introduction\n",
    "The International Monetary Fund (IMF) provide a great resource on inflation. This database receives inflation data from nations across the globe and combines it into a single unified table. This is naturally a massive undertaking, and as it requires the co-operation of every country that is represented in the database, it can sometimes take a little while for the latest data to be published, leaving the database temporarily out of date. As the African Data Hub, our mission is to provide data journalists, researchers, and the general data with up to date, accurate, African-based data. In service to this mission, we have undertaken to maintain an inflation database, specifically focused on African countries, using the IMF database as the key dataset, but updating it with data released by individual African nations, before this information makes its way to the IMF. Thus we are able to maintain  "
   ]
  },
  {
   "cell_type": "markdown",
   "id": "13bcbae3",
   "metadata": {},
   "source": [
    "### Data sources\n"
   ]
  },
  {
   "cell_type": "markdown",
   "id": "df2fe2f0",
   "metadata": {},
   "source": [
    "### Extracting data from PDFs"
   ]
  },
  {
   "cell_type": "markdown",
   "id": "10d391eb",
   "metadata": {},
   "source": [
    "### Combining data\n"
   ]
  },
  {
   "cell_type": "markdown",
   "id": "3428596b",
   "metadata": {},
   "source": [
    "### Posting data\n"
   ]
  },
  {
   "cell_type": "markdown",
   "id": "d57bf383",
   "metadata": {},
   "source": [
    "### Conclusion\n"
   ]
  },
  {
   "cell_type": "code",
   "execution_count": null,
   "id": "7828cea4",
   "metadata": {},
   "outputs": [],
   "source": []
  }
 ],
 "metadata": {
  "kernelspec": {
   "display_name": "py3",
   "language": "python",
   "name": "py3"
  },
  "language_info": {
   "codemirror_mode": {
    "name": "ipython",
    "version": 3
   },
   "file_extension": ".py",
   "mimetype": "text/x-python",
   "name": "python",
   "nbconvert_exporter": "python",
   "pygments_lexer": "ipython3",
   "version": "3.8.13"
  }
 },
 "nbformat": 4,
 "nbformat_minor": 5
}

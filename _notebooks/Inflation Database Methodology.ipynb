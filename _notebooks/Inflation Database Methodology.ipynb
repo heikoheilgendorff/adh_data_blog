{
 "cells": [
  {
   "cell_type": "markdown",
   "id": "0d392954",
   "metadata": {},
   "source": [
    "# How We Created the ADH Inflation Database\n",
    "> An overview of the methodology used in creating the ADH Inflation Database\n",
    "\n",
    "- toc: true\n",
    "- badges: false\n",
    "- comments: true\n",
    "- categories: [CKAN, Data, Overview, Inflation]\n",
    "- image: images/chart-preview.png"
   ]
  },
  {
   "cell_type": "code",
   "execution_count": null,
   "id": "627ec475",
   "metadata": {},
   "outputs": [],
   "source": []
  }
 ],
 "metadata": {
  "kernelspec": {
   "display_name": "py3",
   "language": "python",
   "name": "py3"
  },
  "language_info": {
   "codemirror_mode": {
    "name": "ipython",
    "version": 3
   },
   "file_extension": ".py",
   "mimetype": "text/x-python",
   "name": "python",
   "nbconvert_exporter": "python",
   "pygments_lexer": "ipython3",
   "version": "3.8.13"
  }
 },
 "nbformat": 4,
 "nbformat_minor": 5
}

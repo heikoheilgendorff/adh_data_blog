{
 "cells": [
  {
   "cell_type": "markdown",
   "id": "5e94eb81",
   "metadata": {},
   "source": [
    "# How We Created the ADH Inflation Database\n",
    "> An overview of the methodology used in creating the ADH Inflation Database\n",
    "\n",
    "- toc: false\n",
    "- badges: false\n",
    "- comments: false\n",
    "- categories: [CKAN, Data, Overview, Inflation]\n",
    "- image: images/chart-preview.png"
   ]
  },
  {
   "cell_type": "markdown",
   "id": "5ebf2abc",
   "metadata": {},
   "source": [
    "### Introduction\n"
   ]
  },
  {
   "cell_type": "markdown",
   "id": "c9803ec9",
   "metadata": {},
   "source": [
    "### IMF\n"
   ]
  },
  {
   "cell_type": "markdown",
   "id": "0d557425",
   "metadata": {},
   "source": [
    "### Individual african country sources"
   ]
  },
  {
   "cell_type": "markdown",
   "id": "ca890143",
   "metadata": {},
   "source": [
    "### Extracting data from PDFs"
   ]
  },
  {
   "cell_type": "markdown",
   "id": "02a8a9b4",
   "metadata": {},
   "source": [
    "### Combining data\n"
   ]
  },
  {
   "cell_type": "markdown",
   "id": "bc54ab84",
   "metadata": {},
   "source": [
    "### Posting data\n"
   ]
  },
  {
   "cell_type": "markdown",
   "id": "4419bba9",
   "metadata": {},
   "source": [
    "### Conclusion\n"
   ]
  },
  {
   "cell_type": "code",
   "execution_count": null,
   "id": "8aa207b8",
   "metadata": {},
   "outputs": [],
   "source": []
  }
 ],
 "metadata": {
  "kernelspec": {
   "display_name": "py3",
   "language": "python",
   "name": "py3"
  },
  "language_info": {
   "codemirror_mode": {
    "name": "ipython",
    "version": 3
   },
   "file_extension": ".py",
   "mimetype": "text/x-python",
   "name": "python",
   "nbconvert_exporter": "python",
   "pygments_lexer": "ipython3",
   "version": "3.8.13"
  }
 },
 "nbformat": 4,
 "nbformat_minor": 5
}

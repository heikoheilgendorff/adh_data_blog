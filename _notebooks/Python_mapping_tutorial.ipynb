{
 "cells": [
  {
   "cell_type": "markdown",
   "id": "d0be158f",
   "metadata": {},
   "source": [
    "# Mapping Data in Python (draft)\n",
    "> A tutorial on mapping data in python using geopandas, plotly, altair, and folium. \n",
    "\n",
    "- toc: false \n",
    "- badges: false\n",
    "- comments: false\n",
    "- categories: [python, datascience]\n",
    "- image: images/malaria.jpg"
   ]
  },
  {
   "cell_type": "code",
   "execution_count": null,
   "id": "d0a37c7e",
   "metadata": {},
   "outputs": [],
   "source": []
  }
 ],
 "metadata": {
  "kernelspec": {
   "display_name": "py3",
   "language": "python",
   "name": "py3"
  },
  "language_info": {
   "codemirror_mode": {
    "name": "ipython",
    "version": 3
   },
   "file_extension": ".py",
   "mimetype": "text/x-python",
   "name": "python",
   "nbconvert_exporter": "python",
   "pygments_lexer": "ipython3",
   "version": "3.8.13"
  }
 },
 "nbformat": 4,
 "nbformat_minor": 5
}

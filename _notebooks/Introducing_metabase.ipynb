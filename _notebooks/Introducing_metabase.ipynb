{
 "cells": [
  {
   "cell_type": "markdown",
   "id": "70e96f5d",
   "metadata": {},
   "source": [
    "# Introducing Metabase (Complete)\n",
    "> A showcase on what Metabase is and how we can use it\n",
    "\n",
    "- toc: true\n",
    "- badges: false\n",
    "- comments: false\n",
    "- categories: [Metabase, Overview]\n",
    "- image: images/chart-preview.png"
   ]
  },
  {
   "cell_type": "markdown",
   "id": "e6134be1",
   "metadata": {},
   "source": [
    "Metabase is an opensource business intelligence platform that allows you to explore and visualise data like a data scientist with little to no programming experience. \n",
    "\n",
    "You can connect your data with Metabase through a variety of databases. For example, you can connect a google spreadsheet to Metabase using Google's [BigQuery](https://cloud.google.com/bigquery) or you could set up a SQL database using a relational database like [PostrgreSQL](https://www.postgresql.org/). For a comprehensive list of supported databases, see [here](https://www.metabase.com/docs/latest/databases/connecting). \n"
   ]
  },
  {
   "cell_type": "markdown",
   "id": "05919b6e",
   "metadata": {},
   "source": [
    "### Questions\n",
    "Once your database is connected, you can explore and visualise your data by asking *questions* - a SQL query that pulls the data that you are looking for and allows you to plot it in a variety of graphs. Don't know anything about SQL? No problem! You can ask questions by using a graphic SQL query builder which is very easy to use and intuitive. If you do have SQL experience, you can build your own questions directly in native SQL. "
   ]
  },
  {
   "cell_type": "markdown",
   "id": "11dcc747",
   "metadata": {},
   "source": [
    "### Dashboards\n",
    "You can save related questions onto a *dashboard*, which allows you to visualise different parts of your data in different ways. You can then add dashboard filters which you can assign to any number of questions on your dashboard. Let's say for example that you have data on all of the renewable energy contracts that have been awarded to various companies in various regions across a country. You could create a dashboard that shows a map of the country with locations for all of the proposed renewable energy generation sites, a bar graph showing the number of sites per province, and a timeline showing expected overall generation capacity over time. You could then add dashboard filters to select data by province, company, or period of time. Once your dashboard is complete, you can share it with anyone by creating a login for them and assigning them permission to view it. If you wish to make it publicly available, you can publish it and share the URL, or you can i-frame it as I have shown below."
   ]
  },
  {
   "cell_type": "markdown",
   "id": "9ba20302",
   "metadata": {},
   "source": [
    "### Publishing\n",
    "Here we see some examples of published Metabase dashboards, with data taken from the Southern African Development Community monthly Harmonised Consumer Price Index newsletter which can be found in csv format [here](https://ckan.africadatahub.org/dataset/sadc-monthly-harmonised-consumer-price-index-newsletter). In this case, I have limited the dashboards to one question each in order to make the i-framing a little easier for this article."
   ]
  },
  {
   "cell_type": "code",
   "execution_count": 6,
   "id": "b2cd353f",
   "metadata": {},
   "outputs": [
    {
     "data": {
      "text/html": [
       "<iframe\n",
       "    src=\"https://metabase.africadatahub.org/public/dashboard/0e7e7c08-1a78-4303-85cb-90e549865917\"\n",
       "    frameborder=\"0\"\n",
       "    width=\"900\"\n",
       "    height=\"800\"\n",
       "    allowtransparency\n",
       "></iframe>\n"
      ],
      "text/plain": [
       "<IPython.core.display.HTML object>"
      ]
     },
     "metadata": {},
     "output_type": "display_data"
    }
   ],
   "source": [
    "%%html\n",
    "<iframe\n",
    "    src=\"https://metabase.africadatahub.org/public/dashboard/0e7e7c08-1a78-4303-85cb-90e549865917\"\n",
    "    frameborder=\"0\"\n",
    "    width=\"900\"\n",
    "    height=\"800\"\n",
    "    allowtransparency\n",
    "></iframe>"
   ]
  },
  {
   "cell_type": "code",
   "execution_count": 1,
   "id": "103019c7",
   "metadata": {},
   "outputs": [
    {
     "data": {
      "text/html": [
       "<iframe\n",
       "    src=\"https://metabase.africadatahub.org/public/dashboard/03523f97-de5f-4a2b-9be3-aa35a709519c\"\n",
       "    frameborder=\"0\"\n",
       "    width=\"740\"\n",
       "    height=\"600\"\n",
       "    allowtransparency\n",
       "></iframe>\n"
      ],
      "text/plain": [
       "<IPython.core.display.HTML object>"
      ]
     },
     "metadata": {},
     "output_type": "display_data"
    }
   ],
   "source": [
    "%%html\n",
    "<iframe\n",
    "    src=\"https://metabase.africadatahub.org/public/dashboard/03523f97-de5f-4a2b-9be3-aa35a709519c\"\n",
    "    frameborder=\"0\"\n",
    "    width=\"740\"\n",
    "    height=\"600\"\n",
    "    allowtransparency\n",
    "></iframe>"
   ]
  },
  {
   "cell_type": "markdown",
   "id": "48fadfcb",
   "metadata": {},
   "source": [
    "### Conclusion\n",
    "Metabase is an extremely useful, easy to use, opensource resource and I would strongly encourage anyone who is interested to give it a try."
   ]
  }
 ],
 "metadata": {
  "kernelspec": {
   "display_name": "py3",
   "language": "python",
   "name": "py3"
  },
  "language_info": {
   "codemirror_mode": {
    "name": "ipython",
    "version": 3
   },
   "file_extension": ".py",
   "mimetype": "text/x-python",
   "name": "python",
   "nbconvert_exporter": "python",
   "pygments_lexer": "ipython3",
   "version": "3.8.13"
  }
 },
 "nbformat": 4,
 "nbformat_minor": 5
}

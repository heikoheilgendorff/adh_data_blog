{
 "cells": [
  {
   "cell_type": "markdown",
   "id": "70e96f5d",
   "metadata": {},
   "source": [
    "# Introducing Metabase\n",
    "> A showcase on what Metabase is and how we can use it\n",
    "\n",
    "- toc: true\n",
    "- badges: false\n",
    "- comments: false\n",
    "- categories: [Metabase, Overview]\n",
    "- image: images/chart-preview.png"
   ]
  },
  {
   "cell_type": "code",
   "execution_count": 1,
   "id": "b2cd353f",
   "metadata": {},
   "outputs": [
    {
     "data": {
      "text/html": [
       "<iframe\n",
       "    src=\"https://metabase.africadatahub.org/public/dashboard/0e7e7c08-1a78-4303-85cb-90e549865917\"\n",
       "    frameborder=\"0\"\n",
       "    width=\"900\"\n",
       "    height=\"800\"\n",
       "    allowtransparency\n",
       "></iframe>\n"
      ],
      "text/plain": [
       "<IPython.core.display.HTML object>"
      ]
     },
     "metadata": {},
     "output_type": "display_data"
    }
   ],
   "source": [
    "%%html\n",
    "<iframe\n",
    "    src=\"https://metabase.africadatahub.org/public/dashboard/0e7e7c08-1a78-4303-85cb-90e549865917\"\n",
    "    frameborder=\"0\"\n",
    "    width=\"900\"\n",
    "    height=\"800\"\n",
    "    allowtransparency\n",
    "></iframe>"
   ]
  },
  {
   "cell_type": "code",
   "execution_count": null,
   "id": "103019c7",
   "metadata": {},
   "outputs": [],
   "source": []
  }
 ],
 "metadata": {
  "kernelspec": {
   "display_name": "py3",
   "language": "python",
   "name": "py3"
  },
  "language_info": {
   "codemirror_mode": {
    "name": "ipython",
    "version": 3
   },
   "file_extension": ".py",
   "mimetype": "text/x-python",
   "name": "python",
   "nbconvert_exporter": "python",
   "pygments_lexer": "ipython3",
   "version": "3.8.13"
  }
 },
 "nbformat": 4,
 "nbformat_minor": 5
}

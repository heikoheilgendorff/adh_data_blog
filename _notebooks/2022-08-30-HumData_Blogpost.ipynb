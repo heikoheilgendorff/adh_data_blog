{
 "cells": [
  {
   "cell_type": "markdown",
   "id": "a7ba91ec",
   "metadata": {},
   "source": [
    "# Introducing the Humanitarian Data Exchange\n",
    "> An overview of the Humanitarian Data Exchange: what it is, how to use it, and how the African Data Hub engages with it.  \n",
    "\n",
    "- toc: true \n",
    "- badges: false\n",
    "- comments: false\n",
    "- categories: [HDX, Overview]\n",
    "- image: images/chart-preview.png"
   ]
  },
  {
   "cell_type": "markdown",
   "id": "ee48dbff",
   "metadata": {},
   "source": [
    "### Introduction\n",
    "The [Humanitarian Data Exchange](https://data.humdata.org/) (HDX for short) is an open, online platform for sharing data across countries and organisations. It was launched in 2014 with the aim of making humanitarian data easy to find and explore, however, with currently more than 20 000 datasets on the platform, it can be a little intimidating for new users and it is easy to get lost! The purpose of this blogpost is to provide an overview of what kind of data is available on the HDX platform, how to search for the data you want, how to access it and how we at ADH interact with HDX data. If you are already familiar with HDX and have some specific questions, you may want to dive straight into their [FAQ](https://data.humdata.org/faq). "
   ]
  },
  {
   "cell_type": "markdown",
   "id": "7c09daca",
   "metadata": {},
   "source": [
    "### How to search for data on the HDX\n",
    "\n"
   ]
  },
  {
   "cell_type": "markdown",
   "id": "2f8c6d6a",
   "metadata": {},
   "source": [
    "### How to access data on the HDX"
   ]
  },
  {
   "cell_type": "markdown",
   "id": "b207725e",
   "metadata": {},
   "source": [
    "### How ADH uses HDX data"
   ]
  },
  {
   "cell_type": "code",
   "execution_count": null,
   "id": "21fc1038",
   "metadata": {},
   "outputs": [],
   "source": []
  },
  {
   "cell_type": "code",
   "execution_count": null,
   "id": "83f12ebd",
   "metadata": {},
   "outputs": [],
   "source": []
  }
 ],
 "metadata": {
  "kernelspec": {
   "display_name": "py3",
   "language": "python",
   "name": "py3"
  },
  "language_info": {
   "codemirror_mode": {
    "name": "ipython",
    "version": 3
   },
   "file_extension": ".py",
   "mimetype": "text/x-python",
   "name": "python",
   "nbconvert_exporter": "python",
   "pygments_lexer": "ipython3",
   "version": "3.8.13"
  }
 },
 "nbformat": 4,
 "nbformat_minor": 5
}

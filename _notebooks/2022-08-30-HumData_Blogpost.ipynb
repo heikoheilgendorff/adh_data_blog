{
 "cells": [
  {
   "cell_type": "markdown",
   "id": "73bf2336",
   "metadata": {},
   "source": [
    "# Introducing the Humanitarian Data Exchange\n",
    "> An overview of the Humanitarian Data Exchange - what it is, how to use it, and how the African Data Hub engages with it.  \n",
    "\n",
    "- toc: true \n",
    "- badges: false\n",
    "- comments: false\n",
    "- categories: [HDX, Overview CKAN, Data]\n",
    "- image: images/chart-preview.png"
   ]
  },
  {
   "cell_type": "markdown",
   "id": "38318797",
   "metadata": {},
   "source": [
    "### Introduction\n",
    "The [Humanitarian Data Exchange](https://data.humdata.org/) (HDX for short) is an open, online platform for sharing data across countries and organisations. It was launched in 2014 with the aim of making humanitarian data easy to find and explore, however, with currently more than 20 000 datasets on the platform, it can be a little intimidating for new users and it is easy to get lost! The purpose of this blogpost is to provide an overview of what kind of data is available on the HDX platform, how to search for the data you want, how to access it and how we at ADH interact with HDX data. If you are already familiar with HDX and have some specific questions, you may want to dive straight into their [FAQ](https://data.humdata.org/faq). \n",
    "\n",
    "The HDX platform runs on [CKAN](https://ckan.org/), an open source data management system that is used by hundreds of organisations around the world such as our [ADH data repository](https://ckan.africadatahub.org/), and various national governments including USA, Canada, Singapore, Australia and others. \n",
    "\n",
    "When using CKAN, it is important to understand the difference between the system's definition of a `dataset` vs a `resource`. A dataset is a collection of related data resources, while a resource is a single file. It may be useful to think of a dataset as a folder on your computer and a resource as a file in that folder. "
   ]
  },
  {
   "cell_type": "markdown",
   "id": "bbe08d7b",
   "metadata": {},
   "source": [
    "### Types of Data Available on HDX\n",
    "HDX data is available in a wide variety of formats, from spreadsheets (eg: XLSX, CSV) to geographic (eg: SHP, geoJSON) to image (eg: geoTIFF, PNG) and even documents like PDF, DOCX, and PPTX. Some datasets will include the same data in different formats under different resources. It is therefore not always necessary to download an entire dataset, but rather, only look for formats that you are comfortable with or are able to use. Different formats "
   ]
  },
  {
   "cell_type": "markdown",
   "id": "56cc208d",
   "metadata": {},
   "source": [
    "### How to search for data on HDX\n",
    "Searching for datasets on HDX is done in two ways: by searching for terms that you type into the search bar found at the top of almost every page on HDX, and by filtering a list of search results. The HDX search webpage can be found [here](https://data.humdata.org/search?q=&ext_search_source=main-nav) and a screenshot of the same is shown in figure 1.\n",
    "\n",
    "Entering a search term causes HDX to look for matching terms in the titles, descriptions, locations and tags of a dataset. This is very similar to searching for something on Google. The resulting list of items can be further refined using the filter options on the left side of the search result. You can filter by location, tag, organisation, license and format as well as filtering for some special classes of datasets.\n",
    "\n",
    "\n"
   ]
  },
  {
   "cell_type": "markdown",
   "id": "423be5a2",
   "metadata": {},
   "source": [
    "![](images/HDX/HDX_data_screenshot.jpg \"Figure 1: A screenshot of the data search page on the HDX website.\") "
   ]
  },
  {
   "cell_type": "markdown",
   "id": "29843c2d",
   "metadata": {},
   "source": [
    "### How to access data on HDX\n",
    "HDX have a suite of [data visualisation tools](https://data.humdata.org/dataviz-gallery) that will enable you to explore many of their datasets. It is usually possible to then download the data that fed the visualisation. "
   ]
  },
  {
   "cell_type": "markdown",
   "id": "9135d1e4",
   "metadata": {},
   "source": [
    "### How ADH uses HDX data"
   ]
  },
  {
   "cell_type": "markdown",
   "id": "6da9047c",
   "metadata": {},
   "source": [
    "\n"
   ]
  },
  {
   "cell_type": "markdown",
   "id": "07225c63",
   "metadata": {},
   "source": []
  },
  {
   "cell_type": "code",
   "execution_count": null,
   "id": "e08cf5ab",
   "metadata": {},
   "outputs": [],
   "source": []
  }
 ],
 "metadata": {
  "kernelspec": {
   "display_name": "py3",
   "language": "python",
   "name": "py3"
  },
  "language_info": {
   "codemirror_mode": {
    "name": "ipython",
    "version": 3
   },
   "file_extension": ".py",
   "mimetype": "text/x-python",
   "name": "python",
   "nbconvert_exporter": "python",
   "pygments_lexer": "ipython3",
   "version": "3.8.13"
  }
 },
 "nbformat": 4,
 "nbformat_minor": 5
}

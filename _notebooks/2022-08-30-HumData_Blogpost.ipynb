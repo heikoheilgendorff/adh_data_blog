{
 "cells": [
  {
   "cell_type": "markdown",
   "id": "fe4beb36",
   "metadata": {},
   "source": [
    "# Introducing the Humanitarian Data Exchange\n",
    "> An overview of the Humanitarian Data Exchange - what it is, how to use it, and how the African Data Hub engages with it.  \n",
    "\n",
    "- toc: true \n",
    "- badges: false\n",
    "- comments: false\n",
    "- categories: [HDX, Overview]\n",
    "- image: images/chart-preview.png"
   ]
  },
  {
   "cell_type": "markdown",
   "id": "f23a184b",
   "metadata": {},
   "source": [
    "### Introduction\n",
    "The [Humanitarian Data Exchange](https://data.humdata.org/) (HDX for short) is an open, online platform for sharing data across countries and organisations. It was launched in 2014 with the aim of making humanitarian data easy to find and explore, however, with currently more than 20 000 datasets on the platform, it can be a little intimidating for new users and it is easy to get lost! The purpose of this blogpost is to provide an overview of what kind of data is available on the HDX platform, how to search for the data you want, how to access it and how we at ADH interact with HDX data. If you are already familiar with HDX and have some specific questions, you may want to dive straight into their [FAQ](https://data.humdata.org/faq). "
   ]
  },
  {
   "cell_type": "markdown",
   "id": "c8bb96ee",
   "metadata": {},
   "source": [
    "### How to search for data on the HDX\n",
    "The HDX platform runs on [CKAN](https://ckan.org/), an open source data management system that is used by hundreds of organisations around the world such as our [ADH data repository](https://ckan.africadatahub.org/), and various national governments including USA, Canada, Singapore, Australia and others. \n",
    "\n",
    "When using CKAN, it is important to understand the difference between the system's definition of a `dataset` vs a `resource`. A dataset is a collection of related data resources, while a resource is a single file. It may be useful to think of a dataset as a folder on your computer and a resource as a file in that folder. \n",
    "\n",
    "Searching for datasets on HDX is done in two ways: by searching for terms that you type into the search bar found at the top of almost every page on HDX, and by filtering a list of search results. The HDX search webpage can be found [here](https://data.humdata.org/dataset?q=&sort=if(gt(last_modified%2Creview_date)%2Clast_modified%2Creview_date)%20desc&ext_page_size=25) and a screenshot of the same is shown in figure 1.\n",
    "\n",
    "Entering a search term causes HDX to look for matching terms in the titles, descriptions, locations and tags of a dataset. The resulting list of items can be further refined using the filter options on the left side of the search result. You can filter by location, tag, organisation, license and format as well as filtering for some special classes of datasets.\n",
    "\n",
    "\n"
   ]
  },
  {
   "cell_type": "markdown",
   "id": "f870f9f4",
   "metadata": {},
   "source": [
    "![](images/HDX/HDX_data_screenshot.jpg \"A screenshot of the data search page on the HDX website\") **Figure 1:**A screenshot of the data search page on the HDX website \\label{fig1}."
   ]
  },
  {
   "cell_type": "markdown",
   "id": "9080c54e",
   "metadata": {},
   "source": [
    "### How to access data on the HDX\n",
    "HDX have a suite of [data visualisation tools](https://data.humdata.org/dataviz-gallery) that will enable you to explore many of their datasets. It is usually possible to then download the data that fed the visualisation. "
   ]
  },
  {
   "cell_type": "markdown",
   "id": "a1f01781",
   "metadata": {},
   "source": [
    "### How ADH uses HDX data"
   ]
  },
  {
   "cell_type": "markdown",
   "id": "48e7dc95",
   "metadata": {},
   "source": [
    "![testing](https://www.fast.ai/images/fastai_paper/show_batch.png \"Credit: https://www.fast.ai/2020/02/13/fastai-A-Layered-API-for-Deep-Learning/\")"
   ]
  },
  {
   "cell_type": "markdown",
   "id": "9a4c7fb2",
   "metadata": {},
   "source": [
    "\\begin{figure}[h!]\n",
    "  \\includegraphics[scale=1.7]{https://www.fast.ai/images/fastai_paper/show_batch.png}\n",
    "  \\caption{Credit: https://www.fast.ai/2020/02/13/fastai-A-Layered-API-for-Deep-Learning/}\n",
    "  \\label{fig:birds}\n",
    "\\end{figure}"
   ]
  },
  {
   "cell_type": "markdown",
   "id": "35d839e7",
   "metadata": {},
   "source": []
  },
  {
   "cell_type": "code",
   "execution_count": null,
   "id": "866b2961",
   "metadata": {},
   "outputs": [],
   "source": []
  }
 ],
 "metadata": {
  "kernelspec": {
   "display_name": "py3",
   "language": "python",
   "name": "py3"
  },
  "language_info": {
   "codemirror_mode": {
    "name": "ipython",
    "version": 3
   },
   "file_extension": ".py",
   "mimetype": "text/x-python",
   "name": "python",
   "nbconvert_exporter": "python",
   "pygments_lexer": "ipython3",
   "version": "3.8.13"
  }
 },
 "nbformat": 4,
 "nbformat_minor": 5
}

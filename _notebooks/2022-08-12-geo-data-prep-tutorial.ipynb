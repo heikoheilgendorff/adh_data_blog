{
 "cells": [
  {
   "cell_type": "markdown",
   "id": "525f2f8b",
   "metadata": {},
   "source": [
    "# How to Use Geo Data: Part 1 - Preparing Data\n",
    "> Insert blurb about where the data is from and how/why we're using it. Data can be found [here](https://ckan.africadatahub.org/dataset/south-africa-high-resolution-population-density-maps-demographic-estimates).\n",
    "\n",
    "- toc: true \n",
    "- badges: false\n",
    "- comments: false\n",
    "- categories: [geo data, population density]\n",
    "- image: images/chart-preview.png"
   ]
  },
  {
   "cell_type": "code",
   "execution_count": 1,
   "id": "4690b56e",
   "metadata": {},
   "outputs": [
    {
     "data": {
      "text/plain": [
       "'\\nimport pandas as pd\\nimport rasterio\\nimport geopandas as gpd\\nimport numpy as np\\nimport matplotlib.pyplot as plt\\nfrom rasterio.windows import Window\\nfrom rasterio.plot import show\\n'"
      ]
     },
     "execution_count": 1,
     "metadata": {},
     "output_type": "execute_result"
    }
   ],
   "source": [
    "#hide\n",
    "'''\n",
    "import pandas as pd\n",
    "import rasterio\n",
    "import geopandas as gpd\n",
    "import numpy as np\n",
    "import matplotlib.pyplot as plt\n",
    "from rasterio.windows import Window\n",
    "from rasterio.plot import show\n",
    "'''"
   ]
  },
  {
   "cell_type": "markdown",
   "id": "6de96b54",
   "metadata": {},
   "source": [
    "The csv file is considerably smaller than the tif file, so let's begin with that. The first thing we need to do is convert it from a simple csv to geojson in order to be able to map it."
   ]
  },
  {
   "cell_type": "code",
   "execution_count": 2,
   "id": "91c87d61",
   "metadata": {},
   "outputs": [
    {
     "data": {
      "text/plain": [
       "'\\ndata_path = \\'/mnt/c/Users/heiko/Documents/Work/OCL/ADH/Data_Blog/adh_data_blog/_notebooks/data/zaf_geo_data_blog/\\'\\ncreate_gdf = False\\nif create_gdf == True:\\n  df = pd.read_csv(\\'%szaf_women_2020_csv.zip\\'% data_path)\\n  gdf = gpd.GeoDataFrame(df, geometry=gpd.points_from_xy(df.longitude, df.latitude, crs=\"EPSG:4326\"))\\n  gdf.to_file(\\'%szaf_women_2020_csv_geo.geojson\\'% data_path, driver=\\'GeoJSON\\')\\n  del df, gdf\\n'"
      ]
     },
     "execution_count": 2,
     "metadata": {},
     "output_type": "execute_result"
    }
   ],
   "source": [
    "#hide\n",
    "'''\n",
    "data_path = '/mnt/c/Users/heiko/Documents/Work/OCL/ADH/Data_Blog/adh_data_blog/_notebooks/data/zaf_geo_data_blog/'\n",
    "create_gdf = False\n",
    "if create_gdf == True:\n",
    "  df = pd.read_csv('%szaf_women_2020_csv.zip'% data_path)\n",
    "  gdf = gpd.GeoDataFrame(df, geometry=gpd.points_from_xy(df.longitude, df.latitude, crs=\"EPSG:4326\"))\n",
    "  gdf.to_file('%szaf_women_2020_csv_geo.geojson'% data_path, driver='GeoJSON')\n",
    "  del df, gdf\n",
    "'''"
   ]
  },
  {
   "cell_type": "markdown",
   "id": "01e002d4",
   "metadata": {},
   "source": [
    "The tif file is very big - around 21GB when unzipped. This is too big for most machines to handle in Python, and you would be better off using a decidicated mapping tool like `QGIS`. As such, we should rather look to use the csv file, which is much smaller. However, first we should confirm that the data is the same. To do that, we select only a small part of the tif file and compare it with the same area in the csv file."
   ]
  },
  {
   "cell_type": "code",
   "execution_count": 3,
   "id": "cf105cfe",
   "metadata": {},
   "outputs": [
    {
     "data": {
      "text/plain": [
       "\"\\nwith rasterio.open('zip:///%szaf_women_2020_geotiff.zip!/zaf_women_2020.tif'%data_path) as src:  \\n  n = 500\\n  data = src.read(1, window=Window(0, 0, n, n))\\n  print('Band1 has shape', data.shape)\\n  height = data.shape[0]\\n  width = data.shape[1]\\n  cols, rows = np.meshgrid(np.arange(width), np.arange(height))\\n  xs, ys = rasterio.transform.xy(src.transform, rows, cols)\\n  lons= np.array(xs)\\n  lats = np.array(ys)\\n  print('lons shape', lons.shape)\\n\""
      ]
     },
     "execution_count": 3,
     "metadata": {},
     "output_type": "execute_result"
    }
   ],
   "source": [
    "'''\n",
    "with rasterio.open('zip:///%szaf_women_2020_geotiff.zip!/zaf_women_2020.tif'%data_path) as src:  \n",
    "  n = 500\n",
    "  data = src.read(1, window=Window(0, 0, n, n))\n",
    "  print('Band1 has shape', data.shape)\n",
    "  height = data.shape[0]\n",
    "  width = data.shape[1]\n",
    "  cols, rows = np.meshgrid(np.arange(width), np.arange(height))\n",
    "  xs, ys = rasterio.transform.xy(src.transform, rows, cols)\n",
    "  lons= np.array(xs)\n",
    "  lats = np.array(ys)\n",
    "  print('lons shape', lons.shape)\n",
    "'''"
   ]
  },
  {
   "cell_type": "markdown",
   "id": "9be3b673",
   "metadata": {},
   "source": [
    "Now we have a subset of the tif file, but in order to be able to compare it with the csv file, we need to convert both into geopandas dataframes. To do that, we need to change the shape of the tif file's data."
   ]
  },
  {
   "cell_type": "code",
   "execution_count": 4,
   "id": "ea27db58",
   "metadata": {},
   "outputs": [
    {
     "data": {
      "text/plain": [
       "'\\nlons2 = lons.flatten()\\nlats2 = lats.flatten()\\ndata2 = data.flatten()\\n\\ndata_df = pd.DataFrame({\\'pop_dens\\':data2,\\'latitude\\':lats2,\\'longitude\\':lons2}).dropna()\\ndata_gdf = gpd.GeoDataFrame(data_df.pop_dens, geometry=gpd.points_from_xy(data_df.longitude, data_df.latitude, crs=\"EPSG:4326\"))\\n\\nlon_min= data_df.longitude.min()\\nlon_max = data_df.longitude.max()\\nlat_min= data_df.latitude.min()\\nlat_max = data_df.latitude.max()\\n'"
      ]
     },
     "execution_count": 4,
     "metadata": {},
     "output_type": "execute_result"
    }
   ],
   "source": [
    "'''\n",
    "lons2 = lons.flatten()\n",
    "lats2 = lats.flatten()\n",
    "data2 = data.flatten()\n",
    "\n",
    "data_df = pd.DataFrame({'pop_dens':data2,'latitude':lats2,'longitude':lons2}).dropna()\n",
    "data_gdf = gpd.GeoDataFrame(data_df.pop_dens, geometry=gpd.points_from_xy(data_df.longitude, data_df.latitude, crs=\"EPSG:4326\"))\n",
    "\n",
    "lon_min= data_df.longitude.min()\n",
    "lon_max = data_df.longitude.max()\n",
    "lat_min= data_df.latitude.min()\n",
    "lat_max = data_df.latitude.max()\n",
    "'''"
   ]
  },
  {
   "cell_type": "code",
   "execution_count": 5,
   "id": "d222d2d3",
   "metadata": {},
   "outputs": [],
   "source": [
    "#gdf_box = gpd.read_file('%szaf_women_2020_csv_geo.geojson'%data_path,bbox=(lon_min, lat_min, lon_max, lat_max))"
   ]
  },
  {
   "cell_type": "markdown",
   "id": "7c3483ae",
   "metadata": {},
   "source": [
    "Right, let's take a look at the subset of the tif data. We can also zoom in to see that each point in the tif file is a square pixel."
   ]
  },
  {
   "cell_type": "code",
   "execution_count": 6,
   "id": "2c7df536",
   "metadata": {},
   "outputs": [
    {
     "data": {
      "text/plain": [
       "\"\\ndata = np.nan_to_num(data)\\n\\nfig = plt.figure(figsize=(20,10))\\nax1 = fig.add_subplot(121)\\nplt.imshow(data)\\nax1.set_title('Plot of tif file')\\n\\nax2 = fig.add_subplot(122)\\nplt.imshow(data)\\nplt.xlim(150,180)\\nplt.ylim(180,150)\\nax2.set_title('Zoomed')\\n\\nfig.tight_layout()\\n\""
      ]
     },
     "execution_count": 6,
     "metadata": {},
     "output_type": "execute_result"
    }
   ],
   "source": [
    "'''\n",
    "data = np.nan_to_num(data)\n",
    "\n",
    "fig = plt.figure(figsize=(20,10))\n",
    "ax1 = fig.add_subplot(121)\n",
    "plt.imshow(data)\n",
    "ax1.set_title('Plot of tif file')\n",
    "\n",
    "ax2 = fig.add_subplot(122)\n",
    "plt.imshow(data)\n",
    "plt.xlim(150,180)\n",
    "plt.ylim(180,150)\n",
    "ax2.set_title('Zoomed')\n",
    "\n",
    "fig.tight_layout()\n",
    "'''"
   ]
  },
  {
   "cell_type": "markdown",
   "id": "0c996de2",
   "metadata": {},
   "source": [
    "Now let's compare the two geodataframes of the csv and tif subsets. Once again, we show a zoomed in image on the right. Bearing in mind that the tif data has been converted from a pixel to a point, we note that the two datasets place their points on opposite corners of the pixel. This is not a concern as both points represent the same pixel."
   ]
  },
  {
   "cell_type": "code",
   "execution_count": 7,
   "id": "f3e0c066",
   "metadata": {},
   "outputs": [
    {
     "data": {
      "text/plain": [
       "\"\\nfig = plt.figure(figsize=(20,10))\\nax1 = fig.add_subplot(121)\\ngdf_box.plot(ax=ax1,label='csv')\\ndata_gdf.plot(ax=ax1,color='red',alpha=0.8, markersize=7,label='tif')\\nax1.set_title('Points from both datasets')\\nplt.legend()\\nax2 = fig.add_subplot(122)\\ngdf_box.plot(ax=ax2,label='csv')\\ndata_gdf.plot(ax=ax2,color='red',alpha=0.8, markersize=7,label='tif')\\nax2.set_xlim(16.04,16.048)\\nax2.set_ylim(-22.050,-22.044)\\n#ax2.set_ylim(-22.2044,-22.050)\\nax2.set_title('Zoomed')\\nplt.legend()\\nfig.tight_layout()\\n\""
      ]
     },
     "execution_count": 7,
     "metadata": {},
     "output_type": "execute_result"
    }
   ],
   "source": [
    "'''\n",
    "fig = plt.figure(figsize=(20,10))\n",
    "ax1 = fig.add_subplot(121)\n",
    "gdf_box.plot(ax=ax1,label='csv')\n",
    "data_gdf.plot(ax=ax1,color='red',alpha=0.8, markersize=7,label='tif')\n",
    "ax1.set_title('Points from both datasets')\n",
    "plt.legend()\n",
    "ax2 = fig.add_subplot(122)\n",
    "gdf_box.plot(ax=ax2,label='csv')\n",
    "data_gdf.plot(ax=ax2,color='red',alpha=0.8, markersize=7,label='tif')\n",
    "ax2.set_xlim(16.04,16.048)\n",
    "ax2.set_ylim(-22.050,-22.044)\n",
    "#ax2.set_ylim(-22.2044,-22.050)\n",
    "ax2.set_title('Zoomed')\n",
    "plt.legend()\n",
    "fig.tight_layout()\n",
    "'''"
   ]
  },
  {
   "cell_type": "markdown",
   "id": "a5d16ef8",
   "metadata": {},
   "source": [
    "We have now determined that the csv and tif data refer to the same thing. As such, it is safe for us to continue our analysis using only the csv data."
   ]
  }
 ],
 "metadata": {
  "kernelspec": {
   "display_name": "py3",
   "language": "python",
   "name": "py3"
  },
  "language_info": {
   "codemirror_mode": {
    "name": "ipython",
    "version": 3
   },
   "file_extension": ".py",
   "mimetype": "text/x-python",
   "name": "python",
   "nbconvert_exporter": "python",
   "pygments_lexer": "ipython3",
   "version": "3.8.13"
  }
 },
 "nbformat": 4,
 "nbformat_minor": 5
}
